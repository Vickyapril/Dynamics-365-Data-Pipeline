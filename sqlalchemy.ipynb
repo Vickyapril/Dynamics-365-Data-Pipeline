{
 "cells": [
  {
   "cell_type": "code",
   "execution_count": 72,
   "metadata": {},
   "outputs": [],
   "source": [
    "#import modules to establish \n",
    "\n",
    "from sqlalchemy import create_engine\n",
    "import pandas as pd\n",
    "import pyodbc\n",
    "import json \n",
    "\n",
    "\n",
    "#Create engine for interface \n",
    "# mssql+pyodbc sting from syntax \n",
    "#VICKY Server name for Windows Authentication\n",
    "#VDI database name \n",
    "#driver is for PyOdbc \n",
    "#trusted connection\n",
    "\n",
    "\n",
    "engine = \"mssql+pyodbc://VICKY/VDI?driver=ODBC Driver 17 for SQL Server?trusted_connection=yes\"\n",
    "    "
   ]
  },
  {
   "cell_type": "code",
   "execution_count": 53,
   "metadata": {},
   "outputs": [
    {
     "data": {
      "text/html": [
       "<div>\n",
       "<style scoped>\n",
       "    .dataframe tbody tr th:only-of-type {\n",
       "        vertical-align: middle;\n",
       "    }\n",
       "\n",
       "    .dataframe tbody tr th {\n",
       "        vertical-align: top;\n",
       "    }\n",
       "\n",
       "    .dataframe thead th {\n",
       "        text-align: right;\n",
       "    }\n",
       "</style>\n",
       "<table border=\"1\" class=\"dataframe\">\n",
       "  <thead>\n",
       "    <tr style=\"text-align: right;\">\n",
       "      <th></th>\n",
       "      <th>accountid</th>\n",
       "      <th>name</th>\n",
       "    </tr>\n",
       "  </thead>\n",
       "  <tbody>\n",
       "    <tr>\n",
       "      <th>0</th>\n",
       "      <td>12233</td>\n",
       "      <td>Bill</td>\n",
       "    </tr>\n",
       "    <tr>\n",
       "      <th>1</th>\n",
       "      <td>4553</td>\n",
       "      <td>Gifi</td>\n",
       "    </tr>\n",
       "  </tbody>\n",
       "</table>\n",
       "</div>"
      ],
      "text/plain": [
       "  accountid  name\n",
       "0     12233  Bill\n",
       "1      4553  Gifi"
      ]
     },
     "execution_count": 53,
     "metadata": {},
     "output_type": "execute_result"
    }
   ],
   "source": [
    "# Testing the connection\n",
    "\n",
    "df = pd.read_sql_table(\"test\",engine)\n",
    "df"
   ]
  },
  {
   "cell_type": "code",
   "execution_count": 66,
   "metadata": {},
   "outputs": [
    {
     "name": "stdout",
     "output_type": "stream",
     "text": [
      "{'@odata.context': '[Organization URI]/api/data/v9.1/$metadata#accounts(name)', 'value': [{'@odata.etag': 'W/\"501097\"', 'name': 'Fourth Coffee (sample)', 'accountid': '89390c24-9c72-e511-80d4-00155d2a68d1'}, {'@odata.etag': 'W/\"501098\"', 'name': 'Litware, Inc. (sample)', 'accountid': '8b390c24-9c72-e511-80d4-00155d2a68d1'}, {'@odata.etag': 'W/\"501099\"', 'name': 'Adventure Works (sample)', 'accountid': '8d390c24-9c72-e511-80d4-00155d2a68d1'}]}\n"
     ]
    }
   ],
   "source": [
    "# Importing data in JSON format\n",
    "\n",
    "file_name = r'C:\\Users\\sanjay\\Desktop\\VDI\\sampledata.json'\n",
    "with open(file_name, 'r') as f:\n",
    "    document =  json.loads(f.read())\n",
    "print(document)"
   ]
  },
  {
   "cell_type": "code",
   "execution_count": 71,
   "metadata": {},
   "outputs": [
    {
     "data": {
      "text/html": [
       "<div>\n",
       "<style scoped>\n",
       "    .dataframe tbody tr th:only-of-type {\n",
       "        vertical-align: middle;\n",
       "    }\n",
       "\n",
       "    .dataframe tbody tr th {\n",
       "        vertical-align: top;\n",
       "    }\n",
       "\n",
       "    .dataframe thead th {\n",
       "        text-align: right;\n",
       "    }\n",
       "</style>\n",
       "<table border=\"1\" class=\"dataframe\">\n",
       "  <thead>\n",
       "    <tr style=\"text-align: right;\">\n",
       "      <th></th>\n",
       "      <th>@odata.etag</th>\n",
       "      <th>accountid</th>\n",
       "      <th>name</th>\n",
       "    </tr>\n",
       "  </thead>\n",
       "  <tbody>\n",
       "    <tr>\n",
       "      <th>0</th>\n",
       "      <td>W/\"501097\"</td>\n",
       "      <td>89390c24-9c72-e511-80d4-00155d2a68d1</td>\n",
       "      <td>Fourth Coffee (sample)</td>\n",
       "    </tr>\n",
       "    <tr>\n",
       "      <th>1</th>\n",
       "      <td>W/\"501098\"</td>\n",
       "      <td>8b390c24-9c72-e511-80d4-00155d2a68d1</td>\n",
       "      <td>Litware, Inc. (sample)</td>\n",
       "    </tr>\n",
       "    <tr>\n",
       "      <th>2</th>\n",
       "      <td>W/\"501099\"</td>\n",
       "      <td>8d390c24-9c72-e511-80d4-00155d2a68d1</td>\n",
       "      <td>Adventure Works (sample)</td>\n",
       "    </tr>\n",
       "  </tbody>\n",
       "</table>\n",
       "</div>"
      ],
      "text/plain": [
       "  @odata.etag                             accountid                      name\n",
       "0  W/\"501097\"  89390c24-9c72-e511-80d4-00155d2a68d1    Fourth Coffee (sample)\n",
       "1  W/\"501098\"  8b390c24-9c72-e511-80d4-00155d2a68d1    Litware, Inc. (sample)\n",
       "2  W/\"501099\"  8d390c24-9c72-e511-80d4-00155d2a68d1  Adventure Works (sample)"
      ]
     },
     "execution_count": 71,
     "metadata": {},
     "output_type": "execute_result"
    }
   ],
   "source": [
    "# Processing data into tables\n",
    "\n",
    "columns = [dct['name'] for dct in document['value']]\n",
    "df = pd.DataFrame(document['value'])\n",
    "df"
   ]
  },
  {
   "cell_type": "code",
   "execution_count": 79,
   "metadata": {},
   "outputs": [],
   "source": [
    "#Create a table in the database to hold the values\n",
    "\n",
    "from sqlalchemy import MetaData, Table, Column, Integer, String\n",
    "\n",
    "engine =create_engine(\"mssql+pyodbc://VICKY/VDI?driver=ODBC Driver 17 for SQL Server?trusted_connection=yes\")\n",
    "\n",
    "meta = MetaData()\n",
    "\n",
    "Vdi_data = Table(\n",
    "   'Vdi_data', meta, \n",
    "   Column('@odata.etag', String,), \n",
    "   Column('accountid', String), \n",
    "   Column('name', String), \n",
    ")\n",
    "meta.create_all(engine)"
   ]
  },
  {
   "cell_type": "code",
   "execution_count": 81,
   "metadata": {},
   "outputs": [],
   "source": [
    "df.to_sql(\n",
    "    name='Vdi_data',\n",
    "    con=engine,\n",
    "    index=False,\n",
    "    if_exists='append'\n",
    ")"
   ]
  },
  {
   "cell_type": "code",
   "execution_count": 84,
   "metadata": {},
   "outputs": [
    {
     "data": {
      "text/html": [
       "<div>\n",
       "<style scoped>\n",
       "    .dataframe tbody tr th:only-of-type {\n",
       "        vertical-align: middle;\n",
       "    }\n",
       "\n",
       "    .dataframe tbody tr th {\n",
       "        vertical-align: top;\n",
       "    }\n",
       "\n",
       "    .dataframe thead th {\n",
       "        text-align: right;\n",
       "    }\n",
       "</style>\n",
       "<table border=\"1\" class=\"dataframe\">\n",
       "  <thead>\n",
       "    <tr style=\"text-align: right;\">\n",
       "      <th></th>\n",
       "      <th>@odata.etag</th>\n",
       "      <th>accountid</th>\n",
       "      <th>name</th>\n",
       "    </tr>\n",
       "  </thead>\n",
       "  <tbody>\n",
       "    <tr>\n",
       "      <th>0</th>\n",
       "      <td>W/\"501097\"</td>\n",
       "      <td>89390c24-9c72-e511-80d4-00155d2a68d1</td>\n",
       "      <td>Fourth Coffee (sample)</td>\n",
       "    </tr>\n",
       "    <tr>\n",
       "      <th>1</th>\n",
       "      <td>W/\"501098\"</td>\n",
       "      <td>8b390c24-9c72-e511-80d4-00155d2a68d1</td>\n",
       "      <td>Litware, Inc. (sample)</td>\n",
       "    </tr>\n",
       "    <tr>\n",
       "      <th>2</th>\n",
       "      <td>W/\"501099\"</td>\n",
       "      <td>8d390c24-9c72-e511-80d4-00155d2a68d1</td>\n",
       "      <td>Adventure Works (sample)</td>\n",
       "    </tr>\n",
       "  </tbody>\n",
       "</table>\n",
       "</div>"
      ],
      "text/plain": [
       "  @odata.etag                             accountid                      name\n",
       "0  W/\"501097\"  89390c24-9c72-e511-80d4-00155d2a68d1    Fourth Coffee (sample)\n",
       "1  W/\"501098\"  8b390c24-9c72-e511-80d4-00155d2a68d1    Litware, Inc. (sample)\n",
       "2  W/\"501099\"  8d390c24-9c72-e511-80d4-00155d2a68d1  Adventure Works (sample)"
      ]
     },
     "execution_count": 84,
     "metadata": {},
     "output_type": "execute_result"
    }
   ],
   "source": [
    "df2 = pd.read_sql_table(\"Vdi_data\",engine)\n",
    "df2"
   ]
  },
  {
   "cell_type": "code",
   "execution_count": null,
   "metadata": {},
   "outputs": [],
   "source": []
  }
 ],
 "metadata": {
  "kernelspec": {
   "display_name": "Python 3",
   "language": "python",
   "name": "python3"
  },
  "language_info": {
   "codemirror_mode": {
    "name": "ipython",
    "version": 3
   },
   "file_extension": ".py",
   "mimetype": "text/x-python",
   "name": "python",
   "nbconvert_exporter": "python",
   "pygments_lexer": "ipython3",
   "version": "3.6.4"
  }
 },
 "nbformat": 4,
 "nbformat_minor": 2
}
